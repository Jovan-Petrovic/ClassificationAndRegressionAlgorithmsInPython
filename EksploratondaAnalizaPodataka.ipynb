{
 "cells": [
  {
   "cell_type": "markdown",
   "metadata": {},
   "source": [
    "# Eksploratorna analiza podataka\n",
    "Pripremili: Jovan Petrović, Luka Radovanović, Matija Radičević"
   ]
  },
  {
   "cell_type": "markdown",
   "metadata": {},
   "source": [
    "U svetu big data analitike sve se zasniva na podacima i njihovoj obradi i izvođenju zaključaka. Podaci su najčešće pristupačni u tabelarnom formatu, , poput .csv, .tsv, ili .xlsx. Zbog toga, prvi paket sa kojim ćemo se upoznati je [pandas](https://pandas.pydata.org/). Veoma je pogodan za učitavanje, procesiranje i analiziranje podataka u tabelarnom formatu. Najčešće se koristi zajedno sa Matplotlib i Seaborn paketima u cilju vizualizacije podataka."
   ]
  },
  {
   "cell_type": "markdown",
   "metadata": {},
   "source": [
    "Za početak, potrebno je učitati paket. Konvencija je da se za Pandas koristi alias pd:"
   ]
  },
  {
   "cell_type": "code",
   "execution_count": 3,
   "metadata": {},
   "outputs": [],
   "source": [
    "import pandas as pd"
   ]
  },
  {
   "cell_type": "markdown",
   "metadata": {},
   "source": [
    "Kada je paket učitan, možemo iskoristiti njegovu funkciju read_csv za učitavanje podataka iz dokumenta:"
   ]
  },
  {
   "cell_type": "code",
   "execution_count": 5,
   "metadata": {
    "scrolled": true
   },
   "outputs": [
    {
     "data": {
      "text/html": [
       "<div>\n",
       "<style scoped>\n",
       "    .dataframe tbody tr th:only-of-type {\n",
       "        vertical-align: middle;\n",
       "    }\n",
       "\n",
       "    .dataframe tbody tr th {\n",
       "        vertical-align: top;\n",
       "    }\n",
       "\n",
       "    .dataframe thead th {\n",
       "        text-align: right;\n",
       "    }\n",
       "</style>\n",
       "<table border=\"1\" class=\"dataframe\">\n",
       "  <thead>\n",
       "    <tr style=\"text-align: right;\">\n",
       "      <th></th>\n",
       "      <th>User_ID</th>\n",
       "      <th>Product_ID</th>\n",
       "      <th>Gender</th>\n",
       "      <th>Age</th>\n",
       "      <th>Occupation</th>\n",
       "      <th>City_Category</th>\n",
       "      <th>Stay_In_Current_City_Years</th>\n",
       "      <th>Marital_Status</th>\n",
       "      <th>Product_Category_1</th>\n",
       "      <th>Product_Category_2</th>\n",
       "      <th>Product_Category_3</th>\n",
       "      <th>Purchase</th>\n",
       "    </tr>\n",
       "  </thead>\n",
       "  <tbody>\n",
       "    <tr>\n",
       "      <td>0</td>\n",
       "      <td>1000001</td>\n",
       "      <td>P00069042</td>\n",
       "      <td>F</td>\n",
       "      <td>0-17</td>\n",
       "      <td>10</td>\n",
       "      <td>A</td>\n",
       "      <td>2</td>\n",
       "      <td>0</td>\n",
       "      <td>3</td>\n",
       "      <td>NaN</td>\n",
       "      <td>NaN</td>\n",
       "      <td>8370</td>\n",
       "    </tr>\n",
       "    <tr>\n",
       "      <td>1</td>\n",
       "      <td>1000001</td>\n",
       "      <td>P00248942</td>\n",
       "      <td>F</td>\n",
       "      <td>0-17</td>\n",
       "      <td>10</td>\n",
       "      <td>A</td>\n",
       "      <td>2</td>\n",
       "      <td>0</td>\n",
       "      <td>1</td>\n",
       "      <td>6.0</td>\n",
       "      <td>14.0</td>\n",
       "      <td>15200</td>\n",
       "    </tr>\n",
       "    <tr>\n",
       "      <td>2</td>\n",
       "      <td>1000001</td>\n",
       "      <td>P00087842</td>\n",
       "      <td>F</td>\n",
       "      <td>0-17</td>\n",
       "      <td>10</td>\n",
       "      <td>A</td>\n",
       "      <td>2</td>\n",
       "      <td>0</td>\n",
       "      <td>12</td>\n",
       "      <td>NaN</td>\n",
       "      <td>NaN</td>\n",
       "      <td>1422</td>\n",
       "    </tr>\n",
       "    <tr>\n",
       "      <td>3</td>\n",
       "      <td>1000001</td>\n",
       "      <td>P00085442</td>\n",
       "      <td>F</td>\n",
       "      <td>0-17</td>\n",
       "      <td>10</td>\n",
       "      <td>A</td>\n",
       "      <td>2</td>\n",
       "      <td>0</td>\n",
       "      <td>12</td>\n",
       "      <td>14.0</td>\n",
       "      <td>NaN</td>\n",
       "      <td>1057</td>\n",
       "    </tr>\n",
       "    <tr>\n",
       "      <td>4</td>\n",
       "      <td>1000002</td>\n",
       "      <td>P00285442</td>\n",
       "      <td>M</td>\n",
       "      <td>55+</td>\n",
       "      <td>16</td>\n",
       "      <td>C</td>\n",
       "      <td>4+</td>\n",
       "      <td>0</td>\n",
       "      <td>8</td>\n",
       "      <td>NaN</td>\n",
       "      <td>NaN</td>\n",
       "      <td>7969</td>\n",
       "    </tr>\n",
       "    <tr>\n",
       "      <td>...</td>\n",
       "      <td>...</td>\n",
       "      <td>...</td>\n",
       "      <td>...</td>\n",
       "      <td>...</td>\n",
       "      <td>...</td>\n",
       "      <td>...</td>\n",
       "      <td>...</td>\n",
       "      <td>...</td>\n",
       "      <td>...</td>\n",
       "      <td>...</td>\n",
       "      <td>...</td>\n",
       "      <td>...</td>\n",
       "    </tr>\n",
       "    <tr>\n",
       "      <td>537572</td>\n",
       "      <td>1004737</td>\n",
       "      <td>P00193542</td>\n",
       "      <td>M</td>\n",
       "      <td>36-45</td>\n",
       "      <td>16</td>\n",
       "      <td>C</td>\n",
       "      <td>1</td>\n",
       "      <td>0</td>\n",
       "      <td>1</td>\n",
       "      <td>2.0</td>\n",
       "      <td>NaN</td>\n",
       "      <td>11664</td>\n",
       "    </tr>\n",
       "    <tr>\n",
       "      <td>537573</td>\n",
       "      <td>1004737</td>\n",
       "      <td>P00111142</td>\n",
       "      <td>M</td>\n",
       "      <td>36-45</td>\n",
       "      <td>16</td>\n",
       "      <td>C</td>\n",
       "      <td>1</td>\n",
       "      <td>0</td>\n",
       "      <td>1</td>\n",
       "      <td>15.0</td>\n",
       "      <td>16.0</td>\n",
       "      <td>19196</td>\n",
       "    </tr>\n",
       "    <tr>\n",
       "      <td>537574</td>\n",
       "      <td>1004737</td>\n",
       "      <td>P00345942</td>\n",
       "      <td>M</td>\n",
       "      <td>36-45</td>\n",
       "      <td>16</td>\n",
       "      <td>C</td>\n",
       "      <td>1</td>\n",
       "      <td>0</td>\n",
       "      <td>8</td>\n",
       "      <td>15.0</td>\n",
       "      <td>NaN</td>\n",
       "      <td>8043</td>\n",
       "    </tr>\n",
       "    <tr>\n",
       "      <td>537575</td>\n",
       "      <td>1004737</td>\n",
       "      <td>P00285842</td>\n",
       "      <td>M</td>\n",
       "      <td>36-45</td>\n",
       "      <td>16</td>\n",
       "      <td>C</td>\n",
       "      <td>1</td>\n",
       "      <td>0</td>\n",
       "      <td>5</td>\n",
       "      <td>NaN</td>\n",
       "      <td>NaN</td>\n",
       "      <td>7172</td>\n",
       "    </tr>\n",
       "    <tr>\n",
       "      <td>537576</td>\n",
       "      <td>1004737</td>\n",
       "      <td>P00118242</td>\n",
       "      <td>M</td>\n",
       "      <td>36-45</td>\n",
       "      <td>16</td>\n",
       "      <td>C</td>\n",
       "      <td>1</td>\n",
       "      <td>0</td>\n",
       "      <td>5</td>\n",
       "      <td>8.0</td>\n",
       "      <td>NaN</td>\n",
       "      <td>6875</td>\n",
       "    </tr>\n",
       "  </tbody>\n",
       "</table>\n",
       "<p>537577 rows × 12 columns</p>\n",
       "</div>"
      ],
      "text/plain": [
       "        User_ID Product_ID Gender    Age  Occupation City_Category  \\\n",
       "0       1000001  P00069042      F   0-17          10             A   \n",
       "1       1000001  P00248942      F   0-17          10             A   \n",
       "2       1000001  P00087842      F   0-17          10             A   \n",
       "3       1000001  P00085442      F   0-17          10             A   \n",
       "4       1000002  P00285442      M    55+          16             C   \n",
       "...         ...        ...    ...    ...         ...           ...   \n",
       "537572  1004737  P00193542      M  36-45          16             C   \n",
       "537573  1004737  P00111142      M  36-45          16             C   \n",
       "537574  1004737  P00345942      M  36-45          16             C   \n",
       "537575  1004737  P00285842      M  36-45          16             C   \n",
       "537576  1004737  P00118242      M  36-45          16             C   \n",
       "\n",
       "       Stay_In_Current_City_Years  Marital_Status  Product_Category_1  \\\n",
       "0                               2               0                   3   \n",
       "1                               2               0                   1   \n",
       "2                               2               0                  12   \n",
       "3                               2               0                  12   \n",
       "4                              4+               0                   8   \n",
       "...                           ...             ...                 ...   \n",
       "537572                          1               0                   1   \n",
       "537573                          1               0                   1   \n",
       "537574                          1               0                   8   \n",
       "537575                          1               0                   5   \n",
       "537576                          1               0                   5   \n",
       "\n",
       "        Product_Category_2  Product_Category_3  Purchase  \n",
       "0                      NaN                 NaN      8370  \n",
       "1                      6.0                14.0     15200  \n",
       "2                      NaN                 NaN      1422  \n",
       "3                     14.0                 NaN      1057  \n",
       "4                      NaN                 NaN      7969  \n",
       "...                    ...                 ...       ...  \n",
       "537572                 2.0                 NaN     11664  \n",
       "537573                15.0                16.0     19196  \n",
       "537574                15.0                 NaN      8043  \n",
       "537575                 NaN                 NaN      7172  \n",
       "537576                 8.0                 NaN      6875  \n",
       "\n",
       "[537577 rows x 12 columns]"
      ]
     },
     "execution_count": 5,
     "metadata": {},
     "output_type": "execute_result"
    }
   ],
   "source": [
    "df = pd.read_csv('BlackFriday.csv')\n",
    "df"
   ]
  },
  {
   "cell_type": "markdown",
   "metadata": {},
   "source": [
    "Ovaj dataset je zasluga jedne kompanije koja želi da razume navike kupaca kada je u pitanju kupovina proizvoda različitih kategorija. Oni su podelili podatke svojih kupaca o kupovini skupocenih proizvoda tokom jednog meseca. Dataset sadrži, dakle, podatke o kupcima (godine, pol, bračni status, mesto stanovanja, koliko se dugo nalaze u trenutnom gradu), proizvodima (id i kategorija), kao i ukupan iznos kupovine"
   ]
  },
  {
   "cell_type": "markdown",
   "metadata": {},
   "source": [
    "Prvo ćemo analizirati karakteristike samih kupaca. NA sledeći način vidimo kako su raspoređeni po starosnim kategorijama."
   ]
  },
  {
   "cell_type": "code",
   "execution_count": 6,
   "metadata": {},
   "outputs": [
    {
     "name": "stdout",
     "output_type": "stream",
     "text": [
      "Procenat mladjih od 18: 0.027357941280969984\n",
      "Procenat mladjih od 26: 0.2089765745186271\n",
      "Procenat mladjih od 36: 0.6083426188248381\n",
      "Procenat mladjih od 47: 0.8083121115672731\n",
      "Procenat mladjih od 55: 0.9611162679950965\n"
     ]
    }
   ],
   "source": [
    "mladjiOd18 = df[df['Age'].apply(lambda age: (age == '0-17'))].shape[0]\n",
    "mladji18 = mladjiOd18/df.shape[0]\n",
    "print(\"Procenat mladjih od 18: \" + str(mladji18))\n",
    "mladjiOd26 = df[df['Age'].apply(lambda age: (age == '0-17') | (age == '18-25'))].shape[0]\n",
    "mladji26 = mladjiOd26/df.shape[0]\n",
    "print(\"Procenat mladjih od 26: \" + str(mladji26))\n",
    "mladjiOd36 = df[df['Age'].apply(lambda age: (age == '0-17') | (age == '18-25') | (age == '26-35'))].shape[0]\n",
    "mladji36 = mladjiOd36/df.shape[0]\n",
    "print(\"Procenat mladjih od 36: \" + str(mladji36))\n",
    "mladjiOd47 = df[df['Age'].apply(lambda age: (age == '0-17') | (age ==\n",
    "                                                               '18-25') | (age == '26-35') | (age == '36-45'))].shape[0]\n",
    "mladji47 = mladjiOd47/df.shape[0]\n",
    "print(\"Procenat mladjih od 47: \" + str(mladji47))\n",
    "mladjiOd55 = df[df['Age'].apply(lambda age: (age == '0-17') | (age == '18-25') | (age == '26-35') | (age == '36-45') | (age == '46-50') | (age=='51-55'))].shape[0]\n",
    "mladji55 = mladjiOd55/df.shape[0]\n",
    "print(\"Procenat mladjih od 55: \" + str(mladji55))"
   ]
  },
  {
   "cell_type": "code",
   "execution_count": 7,
   "metadata": {},
   "outputs": [
    {
     "name": "stdout",
     "output_type": "stream",
     "text": [
      "Kupci u intervalu manje od 18 godina procentualno(tinejdzeri): 2.735794128096998\n",
      "Kupci u intervalu od 18-26 godina procentualno(studenti): 18.16186332376571\n",
      "Kupci u intervalu od 26-36 godina procentualno(mladja zrelost): 39.936604430621095\n",
      "Kupci u intervalu od 36-47 godina procentualno (porodicni ljudi): 19.9969492742435\n",
      "Kupci u intervalu od 47-55 godina procentualno (stariji porodicni ljudi): 15.28041564278234\n",
      "Kupci u intervalu preko 55 godina procentualno (stariji ljudi): 3.888373200490347\n"
     ]
    }
   ],
   "source": [
    "print(\"Kupci u intervalu manje od 18 godina procentualno(tinejdzeri): \"+str((mladji18)*100))\n",
    "print(\"Kupci u intervalu od 18-26 godina procentualno(studenti): \"+str((mladji26-mladji18)*100))\n",
    "print(\"Kupci u intervalu od 26-36 godina procentualno(mladja zrelost): \"+str((mladji36-mladji26)*100))\n",
    "print(\"Kupci u intervalu od 36-47 godina procentualno (porodicni ljudi): \"+str((mladji47-mladji36)*100))\n",
    "print(\"Kupci u intervalu od 47-55 godina procentualno (stariji porodicni ljudi): \"+str((mladji55-mladji47)*100))\n",
    "print(\"Kupci u intervalu preko 55 godina procentualno (stariji ljudi): \"+str((1-mladji55)*100))"
   ]
  },
  {
   "cell_type": "markdown",
   "metadata": {},
   "source": [
    "A kako su raspoređeni prema polu možemo odrediti pomoću groupby()"
   ]
  },
  {
   "cell_type": "code",
   "execution_count": 8,
   "metadata": {},
   "outputs": [
    {
     "name": "stdout",
     "output_type": "stream",
     "text": [
      "Odnos kupaca u zavisnost od pola:\n"
     ]
    },
    {
     "data": {
      "text/plain": [
       "Gender\n",
       "F    132197\n",
       "M    405380\n",
       "Name: Gender, dtype: int64"
      ]
     },
     "execution_count": 8,
     "metadata": {},
     "output_type": "execute_result"
    }
   ],
   "source": [
    "print(\"Odnos kupaca u zavisnost od pola:\")\n",
    "df.groupby('Gender')['Gender'].count() #koliko kupaca kog pola imamo"
   ]
  },
  {
   "cell_type": "markdown",
   "metadata": {},
   "source": [
    "Ovde mozemo zakljuciti da je u pitanju kupovina nekih proizvoda koji su prvenstveno namenjeni muškoj populaciji,\n",
    "i da taj proizvod kupuju uglavnom ljudi koji su zavrsili studije i poceli su da rade, koji su u velikoj meri i ostvareni kao roditelji ili kao poslovni ljudi a retko ga kupuju tinejdžeri i ljudi stariji od 55 godina"
   ]
  },
  {
   "cell_type": "code",
   "execution_count": 9,
   "metadata": {},
   "outputs": [
    {
     "name": "stdout",
     "output_type": "stream",
     "text": [
      "Prosecna potrosnja u zavisnosti od pola:\n"
     ]
    },
    {
     "data": {
      "text/plain": [
       "Gender\n",
       "F    8809.761349\n",
       "M    9504.771713\n",
       "Name: Purchase, dtype: float64"
      ]
     },
     "execution_count": 9,
     "metadata": {},
     "output_type": "execute_result"
    }
   ],
   "source": [
    "import numpy as np\n",
    "print(\"Prosecna potrosnja u zavisnosti od pola:\")\n",
    "df.groupby('Gender')['Purchase'].mean()"
   ]
  },
  {
   "cell_type": "markdown",
   "metadata": {},
   "source": [
    "Zanimljiv je i podatak da u proseku na ove proizvode više novca potroše muškarci nego žene."
   ]
  },
  {
   "cell_type": "code",
   "execution_count": 11,
   "metadata": {},
   "outputs": [
    {
     "data": {
      "text/html": [
       "<div>\n",
       "<style scoped>\n",
       "    .dataframe tbody tr th:only-of-type {\n",
       "        vertical-align: middle;\n",
       "    }\n",
       "\n",
       "    .dataframe tbody tr th {\n",
       "        vertical-align: top;\n",
       "    }\n",
       "\n",
       "    .dataframe thead tr th {\n",
       "        text-align: left;\n",
       "    }\n",
       "\n",
       "    .dataframe thead tr:last-of-type th {\n",
       "        text-align: right;\n",
       "    }\n",
       "</style>\n",
       "<table border=\"1\" class=\"dataframe\">\n",
       "  <thead>\n",
       "    <tr>\n",
       "      <th></th>\n",
       "      <th></th>\n",
       "      <th colspan=\"6\" halign=\"left\">Purchase</th>\n",
       "    </tr>\n",
       "    <tr>\n",
       "      <th></th>\n",
       "      <th></th>\n",
       "      <th>count</th>\n",
       "      <th>mean</th>\n",
       "      <th>std</th>\n",
       "      <th>median</th>\n",
       "      <th>amin</th>\n",
       "      <th>amax</th>\n",
       "    </tr>\n",
       "    <tr>\n",
       "      <th>Gender</th>\n",
       "      <th>Age</th>\n",
       "      <th></th>\n",
       "      <th></th>\n",
       "      <th></th>\n",
       "      <th></th>\n",
       "      <th></th>\n",
       "      <th></th>\n",
       "    </tr>\n",
       "  </thead>\n",
       "  <tbody>\n",
       "    <tr>\n",
       "      <td rowspan=\"7\" valign=\"top\">F</td>\n",
       "      <td>0-17</td>\n",
       "      <td>4953</td>\n",
       "      <td>8444.703210</td>\n",
       "      <td>4804.650569</td>\n",
       "      <td>7858.0</td>\n",
       "      <td>197</td>\n",
       "      <td>23866</td>\n",
       "    </tr>\n",
       "    <tr>\n",
       "      <td>18-25</td>\n",
       "      <td>24057</td>\n",
       "      <td>8405.430852</td>\n",
       "      <td>4649.033265</td>\n",
       "      <td>7767.0</td>\n",
       "      <td>197</td>\n",
       "      <td>23936</td>\n",
       "    </tr>\n",
       "    <tr>\n",
       "      <td>26-35</td>\n",
       "      <td>49348</td>\n",
       "      <td>8791.798654</td>\n",
       "      <td>4675.687698</td>\n",
       "      <td>7901.0</td>\n",
       "      <td>186</td>\n",
       "      <td>23955</td>\n",
       "    </tr>\n",
       "    <tr>\n",
       "      <td>36-45</td>\n",
       "      <td>26420</td>\n",
       "      <td>9046.573808</td>\n",
       "      <td>4782.039282</td>\n",
       "      <td>8002.0</td>\n",
       "      <td>185</td>\n",
       "      <td>23948</td>\n",
       "    </tr>\n",
       "    <tr>\n",
       "      <td>46-50</td>\n",
       "      <td>12856</td>\n",
       "      <td>8929.448740</td>\n",
       "      <td>4754.484591</td>\n",
       "      <td>7971.0</td>\n",
       "      <td>209</td>\n",
       "      <td>23920</td>\n",
       "    </tr>\n",
       "    <tr>\n",
       "      <td>51-55</td>\n",
       "      <td>9634</td>\n",
       "      <td>9131.451837</td>\n",
       "      <td>4797.566353</td>\n",
       "      <td>8017.0</td>\n",
       "      <td>216</td>\n",
       "      <td>23959</td>\n",
       "    </tr>\n",
       "    <tr>\n",
       "      <td>55+</td>\n",
       "      <td>4929</td>\n",
       "      <td>9119.577196</td>\n",
       "      <td>4716.731956</td>\n",
       "      <td>8098.0</td>\n",
       "      <td>204</td>\n",
       "      <td>23899</td>\n",
       "    </tr>\n",
       "    <tr>\n",
       "      <td rowspan=\"7\" valign=\"top\">M</td>\n",
       "      <td>0-17</td>\n",
       "      <td>9754</td>\n",
       "      <td>9312.322227</td>\n",
       "      <td>5161.323914</td>\n",
       "      <td>8100.0</td>\n",
       "      <td>187</td>\n",
       "      <td>23955</td>\n",
       "    </tr>\n",
       "    <tr>\n",
       "      <td>18-25</td>\n",
       "      <td>73577</td>\n",
       "      <td>9506.501081</td>\n",
       "      <td>5074.654150</td>\n",
       "      <td>8133.0</td>\n",
       "      <td>185</td>\n",
       "      <td>23958</td>\n",
       "    </tr>\n",
       "    <tr>\n",
       "      <td>26-35</td>\n",
       "      <td>165342</td>\n",
       "      <td>9470.621052</td>\n",
       "      <td>5049.267265</td>\n",
       "      <td>8094.0</td>\n",
       "      <td>185</td>\n",
       "      <td>23961</td>\n",
       "    </tr>\n",
       "    <tr>\n",
       "      <td>36-45</td>\n",
       "      <td>81079</td>\n",
       "      <td>9517.126321</td>\n",
       "      <td>5035.167056</td>\n",
       "      <td>8105.0</td>\n",
       "      <td>190</td>\n",
       "      <td>23960</td>\n",
       "    </tr>\n",
       "    <tr>\n",
       "      <td>46-50</td>\n",
       "      <td>31670</td>\n",
       "      <td>9429.151563</td>\n",
       "      <td>4980.200401</td>\n",
       "      <td>8089.5</td>\n",
       "      <td>186</td>\n",
       "      <td>23960</td>\n",
       "    </tr>\n",
       "    <tr>\n",
       "      <td>51-55</td>\n",
       "      <td>27984</td>\n",
       "      <td>9789.020476</td>\n",
       "      <td>5103.868886</td>\n",
       "      <td>8585.0</td>\n",
       "      <td>187</td>\n",
       "      <td>23960</td>\n",
       "    </tr>\n",
       "    <tr>\n",
       "      <td>55+</td>\n",
       "      <td>15974</td>\n",
       "      <td>9557.058094</td>\n",
       "      <td>5001.385746</td>\n",
       "      <td>8137.0</td>\n",
       "      <td>187</td>\n",
       "      <td>23960</td>\n",
       "    </tr>\n",
       "  </tbody>\n",
       "</table>\n",
       "</div>"
      ],
      "text/plain": [
       "             Purchase                                              \n",
       "                count         mean          std  median amin   amax\n",
       "Gender Age                                                         \n",
       "F      0-17      4953  8444.703210  4804.650569  7858.0  197  23866\n",
       "       18-25    24057  8405.430852  4649.033265  7767.0  197  23936\n",
       "       26-35    49348  8791.798654  4675.687698  7901.0  186  23955\n",
       "       36-45    26420  9046.573808  4782.039282  8002.0  185  23948\n",
       "       46-50    12856  8929.448740  4754.484591  7971.0  209  23920\n",
       "       51-55     9634  9131.451837  4797.566353  8017.0  216  23959\n",
       "       55+       4929  9119.577196  4716.731956  8098.0  204  23899\n",
       "M      0-17      9754  9312.322227  5161.323914  8100.0  187  23955\n",
       "       18-25    73577  9506.501081  5074.654150  8133.0  185  23958\n",
       "       26-35   165342  9470.621052  5049.267265  8094.0  185  23961\n",
       "       36-45    81079  9517.126321  5035.167056  8105.0  190  23960\n",
       "       46-50    31670  9429.151563  4980.200401  8089.5  186  23960\n",
       "       51-55    27984  9789.020476  5103.868886  8585.0  187  23960\n",
       "       55+      15974  9557.058094  5001.385746  8137.0  187  23960"
      ]
     },
     "execution_count": 11,
     "metadata": {},
     "output_type": "execute_result"
    }
   ],
   "source": [
    "group_columns = ['Gender','Age']\n",
    "columns_to_show = ['Purchase']\n",
    "df.groupby(group_columns)[columns_to_show].agg(['count', np.mean, np.std, np.median, np.min, np.max])"
   ]
  },
  {
   "cell_type": "markdown",
   "metadata": {},
   "source": [
    "Kod ove analize nam se krije zanimljivna informacija vezana za to da je iznos koji troše muškarci i žene u proseku\n",
    "dosta različit, pri čemu i stariji muškarici i žene izdvajaju za nijansu veći iznos nego mlađa populacija. Najveći broj kupaca potiče iz dobe mlađe zrelosti i kod muškaraca je izražena ta mera varijabilnost(standardna devijacija) koja govori da je vćce odstupanje od srednje vrednosti nego kod ostalih dobi. Muškarci u razdoblju od 51 do 55 godina izdvajaju najveću sumu novca u proseku, dok najmanju sumu novca u proseku izdvajaju žene u dobi od 18-25 godina."
   ]
  },
  {
   "cell_type": "code",
   "execution_count": 13,
   "metadata": {},
   "outputs": [],
   "source": [
    "import matplotlib.pyplot as plt\n",
    "\n",
    "import seaborn as sns\n",
    "sns.set()\n",
    "\n",
    "from pylab import rcParams\n",
    "rcParams['figure.figsize'] = 5, 4"
   ]
  },
  {
   "cell_type": "code",
   "execution_count": 14,
   "metadata": {},
   "outputs": [
    {
     "data": {
      "text/plain": [
       "<matplotlib.axes._subplots.AxesSubplot at 0x1d1b9b26b48>"
      ]
     },
     "execution_count": 14,
     "metadata": {},
     "output_type": "execute_result"
    },
    {
     "data": {
      "image/png": "[encoded data removed]",
      "text/plain": [
       "<Figure size 432x288 with 1 Axes>"
      ]
     },
     "metadata": {
      "needs_background": "light"
     },
     "output_type": "display_data"
    }
   ],
   "source": [
    "df['Purchase'].hist()"
   ]
  },
  {
   "cell_type": "markdown",
   "metadata": {},
   "source": [
    "Visina iznosa računa je manje-više normalno raspoređena veličina, što znači da nije jednaka verovatnoća pojave iznosa od 25 hiljada i 10 hiljada. Osnovna ideja je da će se češće uzimati vrendosi oko srednje vrednost u odnosu na ostale vrednosti. Najveći broj kupaca spada u grupu sa iznosom računa u intervalu od 5 hiljada do 7 i po hiljada."
   ]
  },
  {
   "cell_type": "code",
   "execution_count": 15,
   "metadata": {},
   "outputs": [
    {
     "data": {
      "text/plain": [
       "<matplotlib.axes._subplots.AxesSubplot at 0x1d1b9bed7c8>"
      ]
     },
     "execution_count": 15,
     "metadata": {},
     "output_type": "execute_result"
    },
    {
     "data": {
      "image/png": "[encoded data removed]",
      "text/plain": [
       "<Figure size 432x288 with 1 Axes>"
      ]
     },
     "metadata": {
      "needs_background": "light"
     },
     "output_type": "display_data"
    }
   ],
   "source": [
    "df['Purchase'].hist(bins=40)"
   ]
  },
  {
   "cell_type": "markdown",
   "metadata": {},
   "source": [
    "Ako bi koristili notaciju sa 30 bin-ova, videli bi da je naša tvrdnja oko normalne raspodele relativno tačna, ali je \n",
    "srednja vrednost pomerena malo više udesno od pretpostavljenog. Osnovni razlog tome je što postoji veliki broj kupaca koji su izdvajali veće sume novca za kupovinu koje su skoncentrisane oko 15 hiljada i 20 hiljada."
   ]
  },
  {
   "cell_type": "code",
   "execution_count": 17,
   "metadata": {},
   "outputs": [
    {
     "data": {
      "text/plain": [
       "<matplotlib.axes._subplots.AxesSubplot at 0x1d1b9caa6c8>"
      ]
     },
     "execution_count": 17,
     "metadata": {},
     "output_type": "execute_result"
    },
    {
     "data": {
      "image/png": "[encoded data removed]",
      "text/plain": [
       "<Figure size 432x288 with 1 Axes>"
      ]
     },
     "metadata": {
      "needs_background": "light"
     },
     "output_type": "display_data"
    }
   ],
   "source": [
    "sns.boxplot(data = df['Purchase'])"
   ]
  },
  {
   "cell_type": "markdown",
   "metadata": {},
   "source": [
    "Boxplot koristimo kako bi opisali odnos outlier-a u odnosu na ostale vrednosti. Pošto postoji par izuzezno visokih iznosa, \n",
    "njih vidimo na slici iznad vrednosti 200 hiljada. Takodje mozemo uočiti i da se medijana nalaizi ispod srednje vrednosti,\n",
    "što nam opet skreće pažnju na to da su outlier-i izrazito visoki iznosi."
   ]
  },
  {
   "cell_type": "code",
   "execution_count": 19,
   "metadata": {},
   "outputs": [
    {
     "data": {
      "text/plain": [
       "count    537577.000000\n",
       "mean       9333.859853\n",
       "std        4981.022133\n",
       "min         185.000000\n",
       "25%        5866.000000\n",
       "50%        8062.000000\n",
       "75%       12073.000000\n",
       "max       23961.000000\n",
       "Name: Purchase, dtype: float64"
      ]
     },
     "execution_count": 19,
     "metadata": {},
     "output_type": "execute_result"
    }
   ],
   "source": [
    "df['Purchase'].describe()"
   ]
  },
  {
   "cell_type": "markdown",
   "metadata": {},
   "source": [
    "Mere koje će nam najbolje opisati variranje iznosa računa, i prosečne vrednosti je deskriptivna statistika u koraku iznad.\n",
    "Tu možemo pročitati podatke o broju record-a u dataset-u, prosečnu vrednost iznosa računa,kao i mere centralne tendencije.\n",
    "Ovde već možemo uočiti da je srednja vrednost veća od mediane, pa se potvrdila naša pretpostavka o uticaju velikih\n",
    "vrednost računa. 75% populacije ima iznos računa manji od 12073 novčanih jedinica, dok 25% računa ima iznos manji od \n",
    "5866 novčanih jedinica. Takođe i pretpostavka da je srednja vrednost bliža donjem nego gornjem kvartilu. To u principu\n",
    "znači da su veće vrednosti razuđenije."
   ]
  },
  {
   "cell_type": "code",
   "execution_count": 21,
   "metadata": {},
   "outputs": [
    {
     "data": {
      "text/plain": [
       "<matplotlib.axes._subplots.AxesSubplot at 0x1d1b9d903c8>"
      ]
     },
     "execution_count": 21,
     "metadata": {},
     "output_type": "execute_result"
    },
    {
     "data": {
      "image/png": "[encoded data removed]",
      "text/plain": [
       "<Figure size 1296x576 with 3 Axes>"
      ]
     },
     "metadata": {
      "needs_background": "light"
     },
     "output_type": "display_data"
    }
   ],
   "source": [
    "_, axes = plt.subplots(3, 1, figsize=(18, 8))\n",
    "\n",
    "sns.countplot(x='Age', data=df, ax=axes[0])\n",
    "sns.countplot(x='Occupation', data=df, ax=axes[1])\n",
    "sns.countplot(x='Stay_In_Current_City_Years', data=df, ax=axes[2])"
   ]
  },
  {
   "cell_type": "markdown",
   "metadata": {},
   "source": [
    "Vizuelizacija nam može pomoći kod vizuelnog posmatranja i našeg dataset-a, i u ovom slučaju nam potrvđuje naše hipoteze\n",
    "o uzrastu kupaca. Takođe, dobili smo i broj kupaca u zavisnosti od zanimanja. Pošto nemamo informacije o zanimanju\n",
    "ne možemo u tom kontektu doneti nikakvu hipotezu, ali se sa grafa vidi da postoje odredjena zanimanja kod kojih je\n",
    "izražena kupovina ovih proizvoda. Takođe, vidimo da je najveći broj kupaca jako kratko u gradu, tačnije od 0 do 1 godine,\n",
    "a posebno je zanimljvo da ljudi koji su tu duže od 4+ godina jako retko kupuju pomentute proizvode."
   ]
  },
  {
   "cell_type": "code",
   "execution_count": 22,
   "metadata": {},
   "outputs": [
    {
     "data": {
      "image/png": "[encoded data removed]",
      "text/plain": [
       "<Figure size 1152x1152 with 2 Axes>"
      ]
     },
     "metadata": {},
     "output_type": "display_data"
    }
   ],
   "source": [
    "data = df.groupby('Age')['Purchase'].sum()\n",
    "data_Sex = df.groupby('Gender')['Purchase'].sum()\n",
    "plt.figure(figsize=(16,16));\n",
    "plt.subplot(121)\n",
    "plt.pie(data.values,labels = data.index,autopct='%1.1f%%',shadow=True);\n",
    "plt.title('Procena u ukupnom iznosu prodaje u zavisnosti od godina');\n",
    "plt.subplot(122)\n",
    "plt.pie(data_Sex.values,labels = data_Sex.index,autopct='%1.1f%%',shadow=True);\n",
    "plt.title('Procenat u ukupnom iznosu prodaje u zavisnosti od pola');"
   ]
  },
  {
   "cell_type": "markdown",
   "metadata": {},
   "source": [
    "Iz prikazanih pitastih dijagrama možemo uočiti da je negde oko 40% prihoda generisano od strane ljudi koje smo \n",
    "klasifikovali kao mladje zrele. Takođe, jedan od uticaja na ovaj iznost se krije i u tome jer gotovo isti iznos\n",
    "vezan za zastupljenost vezanu za starosnu dobu. Takodje, vidimo da je 76.8% prihoda generisano od strane muškaraca što\n",
    "je u saglasnosti sa odnosem ljudi po polovima. "
   ]
  },
  {
   "cell_type": "code",
   "execution_count": 24,
   "metadata": {},
   "outputs": [
    {
     "data": {
      "text/plain": [
       "<matplotlib.axes._subplots.AxesSubplot at 0x1d1b9fa6948>"
      ]
     },
     "execution_count": 24,
     "metadata": {},
     "output_type": "execute_result"
    },
    {
     "data": {
      "image/png": "[encoded data removed]",
      "text/plain": [
       "<Figure size 432x288 with 2 Axes>"
      ]
     },
     "metadata": {
      "needs_background": "light"
     },
     "output_type": "display_data"
    }
   ],
   "source": [
    "df_corr = df[[ 'Purchase', 'Marital_Status']]\n",
    "corr_matrix = df_corr.corr(method = 'pearson')\n",
    "sns.heatmap(corr_matrix)"
   ]
  },
  {
   "cell_type": "markdown",
   "metadata": {},
   "source": [
    "Takođe, moguće je ispitati i korelaciji između bilo koja dva atributa. Na grafu iznad možemo videti da korelacija između kupovine i bračnog statuse ne postoji u ovom datasetu."
   ]
  },
  {
   "cell_type": "markdown",
   "metadata": {},
   "source": [
    "Za kraj, odlučili smo da damo našu pretpostavku šta prodaje ova kompanija. Videli smo da najviše kupuju ljudi oko 30 godina, pa onda oko 40, da mnogo više kupuju muškarci od žena, da najviše proizvoda pada u rang 5-10 hiljada dolara, ali da postoji određen broj outliera-a cenovnog ranga preko 200 hiljada dolara (kupovina radi prestiža), kao ida kupuju ljudi u različitim sferama. Sve nam je to dalu ideju da su možda u pitanju automobili."
   ]
  },
  {
   "cell_type": "markdown",
   "metadata": {},
   "source": [
    "# Literatura:\n",
    "1. [Open Machine Learning Course Medium](https://medium.com/open-machine-learning-course)"
   ]
  },
  {
   "cell_type": "markdown",
   "metadata": {},
   "source": []
  },
  {
   "cell_type": "code",
   "execution_count": null,
   "metadata": {},
   "outputs": [],
   "source": []
  }
 ],
 "metadata": {
  "kernelspec": {
   "display_name": "Python 3",
   "language": "python",
   "name": "python3"
  },
  "language_info": {
   "codemirror_mode": {
    "name": "ipython",
    "version": 3
   },
   "file_extension": ".py",
   "mimetype": "text/x-python",
   "name": "python",
   "nbconvert_exporter": "python",
   "pygments_lexer": "ipython3",
   "version": "3.7.4"
  }
 },
 "nbformat": 4,
 "nbformat_minor": 2
}
